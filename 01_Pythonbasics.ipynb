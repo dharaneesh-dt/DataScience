{
 "cells": [
  {
   "cell_type": "markdown",
   "id": "f6849383",
   "metadata": {},
   "source": [
    "Basics of Python\n"
   ]
  },
  {
   "cell_type": "code",
   "execution_count": null,
   "id": "05abe709",
   "metadata": {},
   "outputs": [
    {
     "name": "stdout",
     "output_type": "stream",
     "text": [
      "Access given\n"
     ]
    }
   ],
   "source": [
    "a=1\n",
    "b=10\n",
    "\n",
    "a!=b\n",
    "\n",
    "#if\n",
    "saved_password = 1010\n",
    "new_pass = 1010\n",
    "if saved_password == new_pass:\n",
    "    print('Access given')\n",
    "else:\n",
    "    print('Access not given')\n",
    "\n",
    "\n"
   ]
  },
  {
   "cell_type": "code",
   "execution_count": null,
   "id": "be3f76df",
   "metadata": {},
   "outputs": [
    {
     "name": "stdout",
     "output_type": "stream",
     "text": [
      "Try again\n"
     ]
    }
   ],
   "source": [
    "saved_password = 1010\n",
    "new_pass = 1012\n",
    "\n",
    "if saved_password == new_pass:\n",
    "    print('Access given')\n",
    "else:\n",
    "    print('Try again')"
   ]
  },
  {
   "cell_type": "code",
   "execution_count": null,
   "id": "6d943820",
   "metadata": {},
   "outputs": [
    {
     "name": "stdout",
     "output_type": "stream",
     "text": [
      "$2\n"
     ]
    }
   ],
   "source": [
    "#Elif\n",
    "#age < 5 : ticket price $2\n",
    "#age < 18 : ticket price $7\n",
    "#age < 60 : ticket price $25\n",
    "#age > 60 : ticket price $15\n",
    "\n",
    "age=3\n",
    "if age <5:\n",
    "    print(\"$2\")\n",
    "elif age <18:\n",
    "    print(\"$7\")\n",
    "elif age<60:\n",
    "    print(\"$25\")\n",
    "else:\n",
    "    print(\"$15\")\n",
    "\n",
    "p\n",
    "[ ]]]]]                                                                                                                                                                                                                                                                                                                                                                                                                                                                                                                                                            "
   ]
  },
  {
   "cell_type": "code",
   "execution_count": null,
   "id": "759e6a35",
   "metadata": {},
   "outputs": [
    {
     "name": "stdout",
     "output_type": "stream",
     "text": [
      "$7\n"
     ]
    }
   ],
   "source": [
    "age=5\n",
    "if age <5:\n",
    "    print(\"$2\")\n",
    "elif age <18:\n",
    "    print(\"$7\")\n",
    "elif age<60:\n",
    "    print(\"$25\")\n",
    "else:\n",
    "    print(\"$15\")\n",
    "\n"
   ]
  },
  {
   "cell_type": "code",
   "execution_count": null,
   "id": "11f705ce",
   "metadata": {},
   "outputs": [
    {
     "name": "stdout",
     "output_type": "stream",
     "text": [
      "$25\n"
     ]
    }
   ],
   "source": [
    "age= 60\n",
    "if age <=5:\n",
    "    print(\"$2\")\n",
    "elif age <=18:\n",
    "    print(\"$7\")\n",
    "elif age<=60:\n",
    "    print(\"$25\")\n",
    "else:\n",
    "    print(\"$15\")\n",
    "\n"
   ]
  }
 ],
 "metadata": {
  "kernelspec": {
   "display_name": "base",
   "language": "python",
   "name": "python3"
  },
  "language_info": {
   "codemirror_mode": {
    "name": "ipython",
    "version": 3
   },
   "file_extension": ".py",
   "mimetype": "text/x-python",
   "name": "python",
   "nbconvert_exporter": "python",
   "pygments_lexer": "ipython3",
   "version": "3.13.5"
  }
 },
 "nbformat": 4,
 "nbformat_minor": 5
}
